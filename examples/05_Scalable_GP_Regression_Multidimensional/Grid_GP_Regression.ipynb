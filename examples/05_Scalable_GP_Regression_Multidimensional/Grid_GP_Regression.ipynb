{
 "cells": [
  {
   "cell_type": "markdown",
   "metadata": {},
   "source": [
    "# GP Regression with Grid Structured Training Data\n",
    "\n",
    "In this notebook, we demonstrate how to perform GP regression when your training data lies on a regularly spaced grid. For this example, we'll be modeling a 2D function where the training data is on an evenly spaced grid on (0,1)x(0, 2) with 100 grid points in each dimension. \n",
    "\n",
    "In other words, we have 10000 training examples. However, the grid structure of the training data will allow us to perform inference very quickly anyways."
   ]
  },
  {
   "cell_type": "code",
   "execution_count": 1,
   "metadata": {},
   "outputs": [],
   "source": [
    "import gpytorch\n",
    "import torch\n",
    "import math"
   ]
  },
  {
   "cell_type": "markdown",
   "metadata": {},
   "source": [
    "## Make the grid and training data\n",
    "\n",
    "In the next cell, we create the grid, along with the 10000 training examples and labels. After running this cell, we create three important tensors:\n",
    "\n",
    "- `grid` is a tensor that is `grid_size x 2` and contains the 1D grid for each dimension.\n",
    "- `train_x` is a tensor containing the full 10000 training examples.\n",
    "- `train_y` are the labels. For this, we're just using a simple sine function."
   ]
  },
  {
   "cell_type": "code",
   "execution_count": 9,
   "metadata": {},
   "outputs": [],
   "source": [
    "grid_bounds = [(0, 1), (0, 2)]\n",
    "grid_size = 100\n",
    "grid = torch.zeros(grid_size, len(grid_bounds))\n",
    "for i in range(len(grid_bounds)):\n",
    "    grid_diff = float(grid_bounds[i][1] - grid_bounds[i][0]) / (grid_size - 2)\n",
    "    grid[:, i] = torch.linspace(grid_bounds[i][0] - grid_diff, grid_bounds[i][1] + grid_diff, grid_size)\n",
    "\n",
    "# Here we actually construct the full grid. We only do this in the example notebook\n",
    "# to easily get the training labels. We won't need the full grid constructed ever.\n",
    "grid_size = grid.size(-2)\n",
    "grid_dim = grid.size(-1)\n",
    "grid_data = torch.zeros(int(pow(grid_size, grid_dim)), grid_dim)\n",
    "prev_points = None\n",
    "for i in range(grid_dim):\n",
    "    for j in range(grid_size):\n",
    "        grid_data[j * grid_size ** i : (j + 1) * grid_size ** i, i].fill_(grid[j, i])\n",
    "        if prev_points is not None:\n",
    "            grid_data[j * grid_size ** i : (j + 1) * grid_size ** i, :i].copy_(prev_points)\n",
    "    prev_points = grid_data[: grid_size ** (i + 1), : (i + 1)]\n",
    "    \n",
    "train_y = torch.sin((grid_data[:, 0] + grid_data[:, 1]) * (2 * math.pi)) + torch.randn_like(grid_data[:, 0]).mul(0.01)\n",
    "train_x = grid_data"
   ]
  },
  {
   "cell_type": "markdown",
   "metadata": {},
   "source": [
    "## Creating the GP Model\n",
    "\n",
    "In the next cell we create our GP model. Like other scalable GP methods, we'll use a scalable kernel that wraps a base kernel. In this case, we create a `GridKernel` that wraps an `RBFKernel`."
   ]
  },
  {
   "cell_type": "code",
   "execution_count": 10,
   "metadata": {},
   "outputs": [],
   "source": [
    "class GridGPRegressionModel(gpytorch.models.ExactGP):\n",
    "    def __init__(self, grid, train_x, train_y, likelihood):\n",
    "        super(GridGPRegressionModel, self).__init__(train_x, train_y, likelihood)\n",
    "        num_dims = train_x.size(-1)\n",
    "        self.mean_module = gpytorch.means.ConstantMean()\n",
    "        self.covar_module = gpytorch.kernels.GridKernel(gpytorch.kernels.RBFKernel(), grid=grid)\n",
    "    \n",
    "    def forward(self, x):\n",
    "        mean_x = self.mean_module(x)\n",
    "        covar_x = self.covar_module(x)\n",
    "        return gpytorch.distributions.MultivariateNormal(mean_x, covar_x)\n",
    "\n",
    "likelihood = gpytorch.likelihoods.GaussianLikelihood()\n",
    "model = GridGPRegressionModel(grid, train_x, train_y, likelihood)\n",
    "        "
   ]
  },
  {
   "cell_type": "code",
   "execution_count": 4,
   "metadata": {},
   "outputs": [
    {
     "name": "stderr",
     "output_type": "stream",
     "text": [
      "/home/jrg365/gpytorch/gpytorch/utils/cholesky.py:14: UserWarning: torch.potrf is deprecated in favour of torch.cholesky and will be removed in the next release. Please use torch.cholesky instead and note that the :attr:`upper` argument in torch.cholesky defaults to ``False``.\n",
      "  potrf_list = [sub_mat.potrf() for sub_mat in mat.view(-1, *mat.shape[-2:])]\n",
      "/home/jrg365/gpytorch/gpytorch/lazy/added_diag_lazy_tensor.py:66: UserWarning: torch.potrf is deprecated in favour of torch.cholesky and will be removed in the next release. Please use torch.cholesky instead and note that the :attr:`upper` argument in torch.cholesky defaults to ``False``.\n",
      "  ld_one = lr_flipped.potrf().diag().log().sum() * 2\n"
     ]
    },
    {
     "name": "stdout",
     "output_type": "stream",
     "text": [
      "Iter 1/50 - Loss: 1.150   log_lengthscale: 0.000   log_noise: 0.000\n",
      "Iter 2/50 - Loss: 1.113   log_lengthscale: -0.100   log_noise: -0.100\n",
      "Iter 3/50 - Loss: 1.070   log_lengthscale: -0.196   log_noise: -0.200\n",
      "Iter 4/50 - Loss: 1.019   log_lengthscale: -0.290   log_noise: -0.300\n",
      "Iter 5/50 - Loss: 0.963   log_lengthscale: -0.385   log_noise: -0.400\n",
      "Iter 6/50 - Loss: 0.899   log_lengthscale: -0.481   log_noise: -0.500\n",
      "Iter 7/50 - Loss: 0.819   log_lengthscale: -0.579   log_noise: -0.601\n",
      "Iter 8/50 - Loss: 0.718   log_lengthscale: -0.676   log_noise: -0.702\n",
      "Iter 9/50 - Loss: 0.612   log_lengthscale: -0.774   log_noise: -0.804\n",
      "Iter 10/50 - Loss: 0.520   log_lengthscale: -0.874   log_noise: -0.907\n",
      "Iter 11/50 - Loss: 0.446   log_lengthscale: -0.972   log_noise: -1.011\n",
      "Iter 12/50 - Loss: 0.384   log_lengthscale: -1.066   log_noise: -1.115\n",
      "Iter 13/50 - Loss: 0.327   log_lengthscale: -1.153   log_noise: -1.221\n",
      "Iter 14/50 - Loss: 0.273   log_lengthscale: -1.232   log_noise: -1.326\n",
      "Iter 15/50 - Loss: 0.221   log_lengthscale: -1.304   log_noise: -1.433\n",
      "Iter 16/50 - Loss: 0.171   log_lengthscale: -1.368   log_noise: -1.539\n",
      "Iter 17/50 - Loss: 0.117   log_lengthscale: -1.426   log_noise: -1.646\n",
      "Iter 18/50 - Loss: 0.069   log_lengthscale: -1.476   log_noise: -1.753\n",
      "Iter 19/50 - Loss: 0.015   log_lengthscale: -1.520   log_noise: -1.860\n",
      "Iter 20/50 - Loss: -0.036   log_lengthscale: -1.558   log_noise: -1.968\n",
      "Iter 21/50 - Loss: -0.087   log_lengthscale: -1.590   log_noise: -2.075\n",
      "Iter 22/50 - Loss: -0.138   log_lengthscale: -1.616   log_noise: -2.182\n",
      "Iter 23/50 - Loss: -0.187   log_lengthscale: -1.636   log_noise: -2.289\n",
      "Iter 24/50 - Loss: -0.238   log_lengthscale: -1.651   log_noise: -2.396\n",
      "Iter 25/50 - Loss: -0.291   log_lengthscale: -1.660   log_noise: -2.503\n",
      "Iter 26/50 - Loss: -0.338   log_lengthscale: -1.663   log_noise: -2.610\n",
      "Iter 27/50 - Loss: -0.391   log_lengthscale: -1.660   log_noise: -2.717\n",
      "Iter 28/50 - Loss: -0.442   log_lengthscale: -1.652   log_noise: -2.824\n",
      "Iter 29/50 - Loss: -0.487   log_lengthscale: -1.637   log_noise: -2.930\n",
      "Iter 30/50 - Loss: -0.536   log_lengthscale: -1.617   log_noise: -3.037\n",
      "Iter 31/50 - Loss: -0.591   log_lengthscale: -1.591   log_noise: -3.143\n",
      "Iter 32/50 - Loss: -0.641   log_lengthscale: -1.559   log_noise: -3.249\n",
      "Iter 33/50 - Loss: -0.697   log_lengthscale: -1.520   log_noise: -3.354\n",
      "Iter 34/50 - Loss: -0.750   log_lengthscale: -1.478   log_noise: -3.460\n",
      "Iter 35/50 - Loss: -0.801   log_lengthscale: -1.430   log_noise: -3.565\n",
      "Iter 36/50 - Loss: -0.850   log_lengthscale: -1.379   log_noise: -3.670\n",
      "Iter 37/50 - Loss: -0.900   log_lengthscale: -1.320   log_noise: -3.775\n",
      "Iter 38/50 - Loss: -0.947   log_lengthscale: -1.259   log_noise: -3.880\n",
      "Iter 39/50 - Loss: -1.011   log_lengthscale: -1.191   log_noise: -3.984\n",
      "Iter 40/50 - Loss: -1.060   log_lengthscale: -1.123   log_noise: -4.089\n",
      "Iter 41/50 - Loss: -1.115   log_lengthscale: -1.056   log_noise: -4.193\n",
      "Iter 42/50 - Loss: -1.162   log_lengthscale: -0.993   log_noise: -4.298\n",
      "Iter 43/50 - Loss: -1.201   log_lengthscale: -0.937   log_noise: -4.402\n",
      "Iter 44/50 - Loss: -1.242   log_lengthscale: -0.892   log_noise: -4.506\n",
      "Iter 45/50 - Loss: -1.282   log_lengthscale: -0.870   log_noise: -4.611\n",
      "Iter 46/50 - Loss: -1.335   log_lengthscale: -0.875   log_noise: -4.715\n",
      "Iter 47/50 - Loss: -1.389   log_lengthscale: -0.901   log_noise: -4.820\n",
      "Iter 48/50 - Loss: -1.453   log_lengthscale: -0.934   log_noise: -4.924\n",
      "Iter 49/50 - Loss: -1.506   log_lengthscale: -0.968   log_noise: -5.028\n",
      "Iter 50/50 - Loss: -1.546   log_lengthscale: -0.998   log_noise: -5.132\n"
     ]
    }
   ],
   "source": [
    "# Find optimal model hyperparameters\n",
    "model.train()\n",
    "likelihood.train()\n",
    "\n",
    "# Use the adam optimizer\n",
    "optimizer = torch.optim.Adam([\n",
    "    {'params': model.parameters()},  # Includes GaussianLikelihood parameters\n",
    "], lr=0.1)\n",
    "\n",
    "# \"Loss\" for GPs - the marginal log likelihood\n",
    "mll = gpytorch.mlls.ExactMarginalLogLikelihood(likelihood, model)\n",
    "\n",
    "training_iter = 50\n",
    "for i in range(training_iter):\n",
    "    # Zero gradients from previous iteration\n",
    "    optimizer.zero_grad()\n",
    "    # Output from model\n",
    "    output = model(train_x)\n",
    "    # Calc loss and backprop gradients\n",
    "    loss = -mll(output, train_y)\n",
    "    loss.backward()\n",
    "    print('Iter %d/%d - Loss: %.3f   log_lengthscale: %.3f   log_noise: %.3f' % (\n",
    "        i + 1, training_iter, loss.item(),\n",
    "        model.covar_module.base_kernel.log_lengthscale.item(),\n",
    "        model.likelihood.log_noise.item()\n",
    "    ))\n",
    "    optimizer.step()"
   ]
  },
  {
   "cell_type": "markdown",
   "metadata": {},
   "source": [
    "## Testing the model\n",
    "\n",
    "In the next cell, we create a set of 400 test examples and make predictions. Note that unlike other scalable GP methods, testing is more complicated. Because our test data can be different from the training data, in general we may not be able to avoid creating a `num_train x num_test` (e.g., `10000 x 400`) kernel matrix between the training and test data.\n",
    "\n",
    "For this reason, if you have large numbers of test points, memory may become a concern. The time complexity should still be reasonable, however, because we will still exploit structure in the train-train covariance matrix."
   ]
  },
  {
   "cell_type": "code",
   "execution_count": 5,
   "metadata": {},
   "outputs": [
    {
     "name": "stderr",
     "output_type": "stream",
     "text": [
      "/home/jrg365/gpytorch/gpytorch/utils/cholesky.py:14: UserWarning: torch.potrf is deprecated in favour of torch.cholesky and will be removed in the next release. Please use torch.cholesky instead and note that the :attr:`upper` argument in torch.cholesky defaults to ``False``.\n",
      "  potrf_list = [sub_mat.potrf() for sub_mat in mat.view(-1, *mat.shape[-2:])]\n",
      "/home/jrg365/gpytorch/gpytorch/lazy/added_diag_lazy_tensor.py:66: UserWarning: torch.potrf is deprecated in favour of torch.cholesky and will be removed in the next release. Please use torch.cholesky instead and note that the :attr:`upper` argument in torch.cholesky defaults to ``False``.\n",
      "  ld_one = lr_flipped.potrf().diag().log().sum() * 2\n"
     ]
    }
   ],
   "source": [
    "model.eval()\n",
    "likelihood.eval()\n",
    "n = 20\n",
    "test_x = torch.zeros(int(pow(n, 2)), 2)\n",
    "for i in range(n):\n",
    "    for j in range(n):\n",
    "        test_x[i * n + j][0] = float(i) / (n-1)\n",
    "        test_x[i * n + j][1] = float(j) / (n-1)\n",
    "\n",
    "with torch.no_grad(), gpytorch.fast_pred_var():\n",
    "    observed_pred = likelihood(model(test_x))"
   ]
  },
  {
   "cell_type": "code",
   "execution_count": 8,
   "metadata": {},
   "outputs": [
    {
     "data": {
      "image/png": "[encoded data removed]",
      "text/plain": [
       "<Figure size 288x216 with 2 Axes>"
      ]
     },
     "metadata": {
      "needs_background": "light"
     },
     "output_type": "display_data"
    },
    {
     "data": {
      "image/png": "[encoded data removed]",
      "text/plain": [
       "<Figure size 288x216 with 2 Axes>"
      ]
     },
     "metadata": {
      "needs_background": "light"
     },
     "output_type": "display_data"
    },
    {
     "data": {
      "image/png": "[encoded data removed]",
      "text/plain": [
       "<Figure size 288x216 with 2 Axes>"
      ]
     },
     "metadata": {
      "needs_background": "light"
     },
     "output_type": "display_data"
    }
   ],
   "source": [
    "import matplotlib.pyplot as plt\n",
    "%matplotlib inline\n",
    "\n",
    "pred_labels = observed_pred.mean.view(n, n)\n",
    "\n",
    "# Calc abosolute error\n",
    "test_y_actual = torch.sin(((test_x[:, 0] + test_x[:, 1]) * (2 * math.pi))).view(n, n)\n",
    "delta_y = torch.abs(pred_labels - test_y_actual).detach().numpy()\n",
    "\n",
    "# Define a plotting function\n",
    "def ax_plot(f, ax, y_labels, title):\n",
    "    im = ax.imshow(y_labels)\n",
    "    ax.set_title(title)\n",
    "    f.colorbar(im)\n",
    "\n",
    "# Plot our predictive means\n",
    "f, observed_ax = plt.subplots(1, 1, figsize=(4, 3))\n",
    "ax_plot(f, observed_ax, pred_labels, 'Predicted Values (Likelihood)')\n",
    "\n",
    "# Plot the true values\n",
    "f, observed_ax2 = plt.subplots(1, 1, figsize=(4, 3))\n",
    "ax_plot(f, observed_ax2, test_y_actual, 'Actual Values (Likelihood)')\n",
    "\n",
    "# Plot the absolute errors\n",
    "f, observed_ax3 = plt.subplots(1, 1, figsize=(4, 3))\n",
    "ax_plot(f, observed_ax3, delta_y, 'Absolute Error Surface')"
   ]
  },
  {
   "cell_type": "code",
   "execution_count": null,
   "metadata": {},
   "outputs": [],
   "source": []
  }
 ],
 "metadata": {
  "kernelspec": {
   "display_name": "Python 3",
   "language": "python",
   "name": "python3"
  },
  "language_info": {
   "codemirror_mode": {
    "name": "ipython",
    "version": 3
   },
   "file_extension": ".py",
   "mimetype": "text/x-python",
   "name": "python",
   "nbconvert_exporter": "python",
   "pygments_lexer": "ipython3",
   "version": "3.7.0"
  }
 },
 "nbformat": 4,
 "nbformat_minor": 2
}
